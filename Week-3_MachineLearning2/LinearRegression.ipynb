{
 "cells": [
  {
   "cell_type": "code",
   "execution_count": 1,
   "metadata": {},
   "outputs": [],
   "source": [
    "import pandas as pd\n",
    "\n",
    "#reading data\n",
    "population = pd.read_csv(r\"dataset/WorldPopulationGrowth.csv\")\n"
   ]
  },
  {
   "cell_type": "code",
   "execution_count": 2,
   "metadata": {},
   "outputs": [
    {
     "data": {
      "text/html": [
       "<div>\n",
       "<style scoped>\n",
       "    .dataframe tbody tr th:only-of-type {\n",
       "        vertical-align: middle;\n",
       "    }\n",
       "\n",
       "    .dataframe tbody tr th {\n",
       "        vertical-align: top;\n",
       "    }\n",
       "\n",
       "    .dataframe thead th {\n",
       "        text-align: right;\n",
       "    }\n",
       "</style>\n",
       "<table border=\"1\" class=\"dataframe\">\n",
       "  <thead>\n",
       "    <tr style=\"text-align: right;\">\n",
       "      <th></th>\n",
       "      <th>Year</th>\n",
       "      <th>Population</th>\n",
       "      <th>Yearly Growth %</th>\n",
       "      <th>Number</th>\n",
       "      <th>Density (Pop/km2)</th>\n",
       "    </tr>\n",
       "  </thead>\n",
       "  <tbody>\n",
       "    <tr>\n",
       "      <th>0</th>\n",
       "      <td>1951</td>\n",
       "      <td>2,543,130,380</td>\n",
       "      <td>1.75%</td>\n",
       "      <td>43,808,223</td>\n",
       "      <td>17</td>\n",
       "    </tr>\n",
       "    <tr>\n",
       "      <th>1</th>\n",
       "      <td>1952</td>\n",
       "      <td>2,590,270,899</td>\n",
       "      <td>1.85%</td>\n",
       "      <td>47,140,519</td>\n",
       "      <td>17</td>\n",
       "    </tr>\n",
       "    <tr>\n",
       "      <th>2</th>\n",
       "      <td>1953</td>\n",
       "      <td>2,640,278,797</td>\n",
       "      <td>1.93%</td>\n",
       "      <td>50,007,898</td>\n",
       "      <td>18</td>\n",
       "    </tr>\n",
       "    <tr>\n",
       "      <th>3</th>\n",
       "      <td>1954</td>\n",
       "      <td>2,691,979,339</td>\n",
       "      <td>1.96%</td>\n",
       "      <td>51,700,542</td>\n",
       "      <td>18</td>\n",
       "    </tr>\n",
       "    <tr>\n",
       "      <th>4</th>\n",
       "      <td>1955</td>\n",
       "      <td>2,746,072,141</td>\n",
       "      <td>2.01%</td>\n",
       "      <td>54,092,802</td>\n",
       "      <td>18</td>\n",
       "    </tr>\n",
       "  </tbody>\n",
       "</table>\n",
       "</div>"
      ],
      "text/plain": [
       "   Year     Population Yearly Growth %      Number  Density (Pop/km2)\n",
       "0  1951  2,543,130,380           1.75%  43,808,223                 17\n",
       "1  1952  2,590,270,899           1.85%  47,140,519                 17\n",
       "2  1953  2,640,278,797           1.93%  50,007,898                 18\n",
       "3  1954  2,691,979,339           1.96%  51,700,542                 18\n",
       "4  1955  2,746,072,141           2.01%  54,092,802                 18"
      ]
     },
     "execution_count": 2,
     "metadata": {},
     "output_type": "execute_result"
    }
   ],
   "source": [
    "population.head() #check the first 5 rows"
   ]
  },
  {
   "cell_type": "code",
   "execution_count": 3,
   "metadata": {},
   "outputs": [
    {
     "data": {
      "text/plain": [
       "(73, 5)"
      ]
     },
     "execution_count": 3,
     "metadata": {},
     "output_type": "execute_result"
    }
   ],
   "source": [
    "population.shape #check the shape of the data"
   ]
  },
  {
   "cell_type": "code",
   "execution_count": 4,
   "metadata": {},
   "outputs": [],
   "source": [
    "population = population[['Year', 'Population']] #filter required columns"
   ]
  },
  {
   "cell_type": "code",
   "execution_count": 5,
   "metadata": {},
   "outputs": [
    {
     "data": {
      "text/html": [
       "<div>\n",
       "<style scoped>\n",
       "    .dataframe tbody tr th:only-of-type {\n",
       "        vertical-align: middle;\n",
       "    }\n",
       "\n",
       "    .dataframe tbody tr th {\n",
       "        vertical-align: top;\n",
       "    }\n",
       "\n",
       "    .dataframe thead th {\n",
       "        text-align: right;\n",
       "    }\n",
       "</style>\n",
       "<table border=\"1\" class=\"dataframe\">\n",
       "  <thead>\n",
       "    <tr style=\"text-align: right;\">\n",
       "      <th></th>\n",
       "      <th>Year</th>\n",
       "      <th>Population</th>\n",
       "    </tr>\n",
       "  </thead>\n",
       "  <tbody>\n",
       "    <tr>\n",
       "      <th>0</th>\n",
       "      <td>1951</td>\n",
       "      <td>2,543,130,380</td>\n",
       "    </tr>\n",
       "    <tr>\n",
       "      <th>1</th>\n",
       "      <td>1952</td>\n",
       "      <td>2,590,270,899</td>\n",
       "    </tr>\n",
       "    <tr>\n",
       "      <th>2</th>\n",
       "      <td>1953</td>\n",
       "      <td>2,640,278,797</td>\n",
       "    </tr>\n",
       "    <tr>\n",
       "      <th>3</th>\n",
       "      <td>1954</td>\n",
       "      <td>2,691,979,339</td>\n",
       "    </tr>\n",
       "    <tr>\n",
       "      <th>4</th>\n",
       "      <td>1955</td>\n",
       "      <td>2,746,072,141</td>\n",
       "    </tr>\n",
       "  </tbody>\n",
       "</table>\n",
       "</div>"
      ],
      "text/plain": [
       "   Year     Population\n",
       "0  1951  2,543,130,380\n",
       "1  1952  2,590,270,899\n",
       "2  1953  2,640,278,797\n",
       "3  1954  2,691,979,339\n",
       "4  1955  2,746,072,141"
      ]
     },
     "execution_count": 5,
     "metadata": {},
     "output_type": "execute_result"
    }
   ],
   "source": [
    "population.head() #check the first 5 rows"
   ]
  },
  {
   "cell_type": "code",
   "execution_count": 6,
   "metadata": {},
   "outputs": [
    {
     "data": {
      "text/plain": [
       "(73, 2)"
      ]
     },
     "execution_count": 6,
     "metadata": {},
     "output_type": "execute_result"
    }
   ],
   "source": [
    "population.shape #check shape of the data"
   ]
  },
  {
   "cell_type": "code",
   "execution_count": 7,
   "metadata": {},
   "outputs": [
    {
     "data": {
      "text/html": [
       "<div>\n",
       "<style scoped>\n",
       "    .dataframe tbody tr th:only-of-type {\n",
       "        vertical-align: middle;\n",
       "    }\n",
       "\n",
       "    .dataframe tbody tr th {\n",
       "        vertical-align: top;\n",
       "    }\n",
       "\n",
       "    .dataframe thead th {\n",
       "        text-align: right;\n",
       "    }\n",
       "</style>\n",
       "<table border=\"1\" class=\"dataframe\">\n",
       "  <thead>\n",
       "    <tr style=\"text-align: right;\">\n",
       "      <th></th>\n",
       "      <th>Year</th>\n",
       "    </tr>\n",
       "  </thead>\n",
       "  <tbody>\n",
       "    <tr>\n",
       "      <th>count</th>\n",
       "      <td>73.000000</td>\n",
       "    </tr>\n",
       "    <tr>\n",
       "      <th>mean</th>\n",
       "      <td>1987.000000</td>\n",
       "    </tr>\n",
       "    <tr>\n",
       "      <th>std</th>\n",
       "      <td>21.217131</td>\n",
       "    </tr>\n",
       "    <tr>\n",
       "      <th>min</th>\n",
       "      <td>1951.000000</td>\n",
       "    </tr>\n",
       "    <tr>\n",
       "      <th>25%</th>\n",
       "      <td>1969.000000</td>\n",
       "    </tr>\n",
       "    <tr>\n",
       "      <th>50%</th>\n",
       "      <td>1987.000000</td>\n",
       "    </tr>\n",
       "    <tr>\n",
       "      <th>75%</th>\n",
       "      <td>2005.000000</td>\n",
       "    </tr>\n",
       "    <tr>\n",
       "      <th>max</th>\n",
       "      <td>2023.000000</td>\n",
       "    </tr>\n",
       "  </tbody>\n",
       "</table>\n",
       "</div>"
      ],
      "text/plain": [
       "              Year\n",
       "count    73.000000\n",
       "mean   1987.000000\n",
       "std      21.217131\n",
       "min    1951.000000\n",
       "25%    1969.000000\n",
       "50%    1987.000000\n",
       "75%    2005.000000\n",
       "max    2023.000000"
      ]
     },
     "execution_count": 7,
     "metadata": {},
     "output_type": "execute_result"
    }
   ],
   "source": [
    "population.describe() # check the mathematical summary of the data"
   ]
  },
  {
   "cell_type": "code",
   "execution_count": 8,
   "metadata": {},
   "outputs": [
    {
     "name": "stdout",
     "output_type": "stream",
     "text": [
      "<class 'pandas.core.frame.DataFrame'>\n",
      "RangeIndex: 73 entries, 0 to 72\n",
      "Data columns (total 2 columns):\n",
      " #   Column      Non-Null Count  Dtype \n",
      "---  ------      --------------  ----- \n",
      " 0   Year        73 non-null     int64 \n",
      " 1   Population  73 non-null     object\n",
      "dtypes: int64(1), object(1)\n",
      "memory usage: 1.3+ KB\n"
     ]
    }
   ],
   "source": [
    "population.info() #check the summary of the data"
   ]
  },
  {
   "cell_type": "code",
   "execution_count": 9,
   "metadata": {},
   "outputs": [],
   "source": [
    "population['Population'] = population['Population'].astype(str).str.replace(',', '').astype('int64') #convert the data type of the population column to int64"
   ]
  },
  {
   "cell_type": "code",
   "execution_count": 10,
   "metadata": {},
   "outputs": [],
   "source": [
    "#normalization\n",
    "from sklearn.preprocessing import MinMaxScaler\n",
    "\n",
    "min_max_scaler = MinMaxScaler()\n",
    "population['Population'] = min_max_scaler.fit_transform(population[['Population']])"
   ]
  },
  {
   "cell_type": "code",
   "execution_count": 11,
   "metadata": {},
   "outputs": [
    {
     "name": "stdout",
     "output_type": "stream",
     "text": [
      "<class 'pandas.core.frame.DataFrame'>\n",
      "RangeIndex: 73 entries, 0 to 72\n",
      "Data columns (total 2 columns):\n",
      " #   Column      Non-Null Count  Dtype  \n",
      "---  ------      --------------  -----  \n",
      " 0   Year        73 non-null     int64  \n",
      " 1   Population  73 non-null     float64\n",
      "dtypes: float64(1), int64(1)\n",
      "memory usage: 1.3 KB\n"
     ]
    }
   ],
   "source": [
    "population.info() #check again the summary of the data"
   ]
  },
  {
   "cell_type": "code",
   "execution_count": 12,
   "metadata": {},
   "outputs": [],
   "source": [
    "#define features\n",
    "\n",
    "X = population[['Year']]\n",
    "Y = population[['Population']]"
   ]
  },
  {
   "cell_type": "code",
   "execution_count": 13,
   "metadata": {},
   "outputs": [],
   "source": [
    "#splitting the data\n",
    "\n",
    "from sklearn.model_selection import train_test_split\n",
    "\n",
    "X_train, X_test, y_train, y_test = train_test_split(X, Y, test_size=0.1, random_state=6)\n"
   ]
  },
  {
   "cell_type": "code",
   "execution_count": 14,
   "metadata": {},
   "outputs": [
    {
     "name": "stdout",
     "output_type": "stream",
     "text": [
      "(65, 1)\n",
      "(8, 1)\n",
      "(65, 1)\n",
      "(8, 1)\n"
     ]
    }
   ],
   "source": [
    "#checking splitted data\n",
    "\n",
    "print(X_train.shape)\n",
    "print(X_test.shape)\n",
    "print(y_train.shape)\n",
    "print(y_test.shape)"
   ]
  },
  {
   "cell_type": "code",
   "execution_count": null,
   "metadata": {},
   "outputs": [],
   "source": [
    "print(\"X_train head \\n\",X_train.head())\n",
    "print(\"X_test head \\n\",X_test.head())\n",
    "print(\"Y_train head \\n\",y_train.head())\n",
    "print(\"Y_test head \\n\",y_test.head())"
   ]
  },
  {
   "cell_type": "code",
   "execution_count": 15,
   "metadata": {},
   "outputs": [
    {
     "name": "stdout",
     "output_type": "stream",
     "text": [
      "[[4.80952494e+09]\n",
      " [7.10947921e+09]\n",
      " [7.03017044e+09]\n",
      " [5.28537755e+09]\n",
      " [6.55431783e+09]\n",
      " [7.34740551e+09]\n",
      " [6.63362660e+09]\n",
      " [4.57159864e+09]]\n"
     ]
    }
   ],
   "source": [
    "# import learning algorithm (linear regression) from sklearn\n",
    "from sklearn.linear_model import LinearRegression\n",
    "\n",
    "model = LinearRegression() # create a linear regression model\n",
    "\n",
    "model.fit(X_train, y_train) # fit the model\n",
    "\n",
    "\n",
    "y_pred = model.predict(X_test) # predict the test data\n",
    "\n",
    "print(min_max_scaler.inverse_transform(y_pred)) # check the shape of the predicted data\n"
   ]
  },
  {
   "cell_type": "code",
   "execution_count": 16,
   "metadata": {},
   "outputs": [
    {
     "name": "stdout",
     "output_type": "stream",
     "text": [
      "Model weights saved to 'linear_regression_model.pkl'\n"
     ]
    }
   ],
   "source": [
    "import pickle\n",
    "with open('linear_regression_model.pkl', 'wb') as file:\n",
    "    pickle.dump(model, file)\n",
    "\n",
    "print(\"Model weights saved to 'linear_regression_model.pkl'\")    "
   ]
  },
  {
   "cell_type": "code",
   "execution_count": 17,
   "metadata": {},
   "outputs": [
    {
     "name": "stdout",
     "output_type": "stream",
     "text": [
      "Root Mean Squared Error: 0.0136068913018943\n",
      "R² Score: 0.9954280837498577\n",
      "Mean Absolute Error: 0.011198252409064267\n",
      "Mean Squared Error: 0.00018514749090156677\n",
      "intercept: [-28.17117251]\n",
      "coef: [[0.01441406]]\n"
     ]
    }
   ],
   "source": [
    "#evaluate the model\n",
    "from sklearn.metrics import mean_absolute_error, mean_squared_error, r2_score\n",
    "import numpy as np\n",
    "\n",
    "mae = mean_absolute_error(y_test, y_pred)\n",
    "mse = mean_squared_error(y_test, y_pred)\n",
    "r2 = r2_score(y_test, y_pred)\n",
    "rmse = np.sqrt(mse)\n",
    "\n",
    "print(f'Root Mean Squared Error: {rmse}')\n",
    "print(f'R² Score: {r2}')\n",
    "print(f'Mean Absolute Error: {mae}')\n",
    "print(f'Mean Squared Error: {mse}')\n",
    "\n",
    "print(f'intercept: {model.intercept_}')\n",
    "print(f'coef: {model.coef_}')"
   ]
  },
  {
   "cell_type": "code",
   "execution_count": 18,
   "metadata": {},
   "outputs": [
    {
     "data": {
      "image/png": "[encoded data removed]",
      "text/plain": [
       "<Figure size 1000x600 with 1 Axes>"
      ]
     },
     "metadata": {},
     "output_type": "display_data"
    }
   ],
   "source": [
    "import matplotlib.pyplot as plt\n",
    "\n",
    "# Create the actual vs predicted plot\n",
    "plt.figure(figsize=(10, 6))\n",
    "plt.scatter(y_test, y_pred, color='blue', alpha=0.7)\n",
    "plt.plot([y_test.min(), y_test.max()], [y_test.min(), y_test.max()], color='red', linestyle='--', label = 'Regression Line')  # Diagonal line\n",
    "plt.xlabel('Actual Values')\n",
    "plt.ylabel('Predicted Values')\n",
    "plt.title('Actual vs Predicted Values')\n",
    "plt.grid(True)\n",
    "plt.legend()\n",
    "\n",
    "# Save the plot\n",
    "plt.savefig('actual_vs_predicted.png')\n",
    "\n",
    "# Show the plot\n",
    "plt.show()"
   ]
  },
  {
   "cell_type": "code",
   "execution_count": 19,
   "metadata": {},
   "outputs": [
    {
     "name": "stderr",
     "output_type": "stream",
     "text": [
      "/home/kinar/anaconda3/envs/task/lib/python3.9/site-packages/numpy/core/fromnumeric.py:3603: FutureWarning: The behavior of DataFrame.std with axis=None is deprecated, in a future version this will reduce over both axes and return a scalar. To retain the old behavior, pass axis=0 (or do not pass axis)\n",
      "  return std(axis=axis, dtype=dtype, out=out, ddof=ddof, **kwargs)\n"
     ]
    },
    {
     "data": {
      "image/png": "[encoded data removed]",
      "text/plain": [
       "<Figure size 1000x600 with 1 Axes>"
      ]
     },
     "metadata": {},
     "output_type": "display_data"
    }
   ],
   "source": [
    "\n",
    "y_train_pred = model.predict(X_train)  # Assuming X_train is defined\n",
    "\n",
    "# Calculate residuals\n",
    "train_residuals = y_train - y_train_pred  # y_train is the actual values\n",
    "\n",
    "# Normalize the residuals\n",
    "mean_train_residual = np.mean(train_residuals)\n",
    "std_train_residual = np.std(train_residuals)\n",
    "normalized_train_residuals = (train_residuals - mean_train_residual) / std_train_residual\n",
    "\n",
    "# Create a histogram of the normalized residuals\n",
    "plt.figure(figsize=(10, 6))\n",
    "plt.hist(normalized_train_residuals, bins=30, color='blue', alpha=0.7, edgecolor='black')\n",
    "plt.xlabel('Normalized Residuals')\n",
    "plt.ylabel('Frequency')\n",
    "plt.title('Histogram of Normalized Residuals (Training Data)')\n",
    "plt.grid(True)\n",
    "\n",
    "\n",
    "# Save the plot\n",
    "plt.savefig('residuals_histogram.png')\n",
    "\n",
    "# Show the plot\n",
    "plt.show()"
   ]
  },
  {
   "cell_type": "code",
   "execution_count": 20,
   "metadata": {},
   "outputs": [],
   "source": [
    "#to load model again\n",
    "\n",
    "with open('linear_regression_model.pkl', 'rb') as f:\n",
    "    model = pickle.load(f)"
   ]
  },
  {
   "cell_type": "code",
   "execution_count": 21,
   "metadata": {},
   "outputs": [
    {
     "name": "stdout",
     "output_type": "stream",
     "text": [
      "[[8.14049319e+09]]\n"
     ]
    }
   ],
   "source": [
    "# New data for prediction\n",
    "new_data = pd.DataFrame({'Year': [2025]})\n",
    "\n",
    "# Make predictions using the model\n",
    "test_prediction = model.predict(new_data)\n",
    "\n",
    "# Inverse-transform the predicted population values to get the original scale\n",
    "predicted_population = min_max_scaler.inverse_transform(test_prediction.reshape(-1, 1))\n",
    "\n",
    "print(predicted_population)\n"
   ]
  }
 ],
 "metadata": {
  "kernelspec": {
   "display_name": "training_env",
   "language": "python",
   "name": "python3"
  },
  "language_info": {
   "codemirror_mode": {
    "name": "ipython",
    "version": 3
   },
   "file_extension": ".py",
   "mimetype": "text/x-python",
   "name": "python",
   "nbconvert_exporter": "python",
   "pygments_lexer": "ipython3",
   "version": "3.9.19"
  }
 },
 "nbformat": 4,
 "nbformat_minor": 2
}
